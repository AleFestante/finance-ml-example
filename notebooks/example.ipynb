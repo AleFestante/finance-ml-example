{
 "cells": [
  {
   "cell_type": "code",
   "execution_count": 1,
   "metadata": {},
   "outputs": [],
   "source": [
    "from datetime import datetime, timedelta\n",
    "\n",
    "import numpy as np\n",
    "import pandas as pd\n",
    "import yfinance as yf"
   ]
  },
  {
   "cell_type": "markdown",
   "metadata": {},
   "source": [
    "# Introduction\n",
    "\n",
    "Forecasting financial time series is not something that is easy to pick up the first time. Even though we might be acquainted with different machine learning classification and regression problems, it poses its own unique challenges in terms of autocorrelation, format of the data, evaluation of predictions.\n",
    "In this notebook and articles series we will try to frame a time series problem in format that is closer to common machine learning problems so that we can use frameworks such as gradient boosted machines or DNN to tackle our problem.\\\n",
    "\n",
    "As such I will not discuss here methods that are commonly used in Academiy such as VAR, ARIMA, SARIMA and variations thereof that require much deeper knowledge about the theory of the data generating process and that are in my opinion cumbersome for people that have not encountered them before. \\\n",
    "\n",
    "I am going to use yahoo finance data as an example below!"
   ]
  },
  {
   "cell_type": "code",
   "execution_count": 2,
   "metadata": {},
   "outputs": [
    {
     "name": "stdout",
     "output_type": "stream",
     "text": [
      "[*********************100%***********************]  2 of 2 completed\n"
     ]
    }
   ],
   "source": [
    "STOCK_TICKER = \"SPY\"\n",
    "\n",
    "data = yf.download(  # or pdr.get_data_yahoo(...\n",
    "    # tickers list or string as well\n",
    "    tickers=\"SPY BABA\",\n",
    "    # use \"period\" instead of start/end\n",
    "    # valid periods: 1d,5d,1mo,3mo,6mo,1y,2y,5y,10y,ytd,max\n",
    "    # (optional, default is '1mo')\n",
    "    period=\"60d\",\n",
    "    # fetch data by interval (including intraday if period < 60 days)\n",
    "    # valid intervals: 1m,2m,5m,15m,30m,60m,90m,1h,1d,5d,1wk,1mo,3mo\n",
    "    # (optional, default is '1d')\n",
    "    interval=\"15m\",\n",
    "    # group by ticker (to access via data['SPY'])\n",
    "    # (optional, default is 'column')\n",
    "    group_by=\"ticker\",\n",
    "    # adjust all OHLC automatically\n",
    "    # (optional, default is False)\n",
    "    auto_adjust=True,\n",
    "    # download pre/post regular market hours data\n",
    "    # (optional, default is False)\n",
    "    prepost=True,\n",
    "    # use threads for mass downloading? (True/False/Integer)\n",
    "    # (optional, default is True)\n",
    "    threads=True,\n",
    "    # proxy URL scheme use use when downloading?\n",
    "    # (optional, default is None)\n",
    "    proxy=None,\n",
    ")"
   ]
  },
  {
   "cell_type": "code",
   "execution_count": 3,
   "metadata": {},
   "outputs": [
    {
     "data": {
      "text/plain": [
       "Datetime    datetime64[ns, America/New_York]\n",
       "Open                                 float64\n",
       "High                                 float64\n",
       "Low                                  float64\n",
       "Close                                float64\n",
       "Volume                               float64\n",
       "dtype: object"
      ]
     },
     "execution_count": 3,
     "metadata": {},
     "output_type": "execute_result"
    }
   ],
   "source": [
    "data[STOCK_TICKER].reset_index().dtypes"
   ]
  },
  {
   "cell_type": "markdown",
   "metadata": {},
   "source": [
    "Let's formulate the problem in the following way:\n",
    "- We want to predict the average stock price of the coming week\n",
    "- Each sample in the training set is going to be a combination of Open Price"
   ]
  },
  {
   "cell_type": "code",
   "execution_count": 4,
   "metadata": {},
   "outputs": [],
   "source": [
    "train_data_cutoff = pd.Timestamp(\"2022-01-10\", tz=\"America/New_York\")\n",
    "test_data_beginning = train_data_cutoff + timedelta(days=7)\n",
    "test_data_end = test_data_beginning + timedelta(days=7)"
   ]
  },
  {
   "cell_type": "code",
   "execution_count": 5,
   "metadata": {},
   "outputs": [
    {
     "data": {
      "text/plain": [
       "Timestamp('2022-01-24 00:00:00-0500', tz='America/New_York')"
      ]
     },
     "execution_count": 5,
     "metadata": {},
     "output_type": "execute_result"
    }
   ],
   "source": [
    "# convert to pandas specific timestamps\n",
    "test_data_end"
   ]
  },
  {
   "cell_type": "code",
   "execution_count": 6,
   "metadata": {},
   "outputs": [],
   "source": [
    "df = data[STOCK_TICKER].copy()#[data[\"MSFT\"].index < train_data_cutoff]"
   ]
  },
  {
   "cell_type": "markdown",
   "metadata": {},
   "source": [
    "## Label\n",
    "\n",
    "Remember that we are trying to predict the average price of next week for a given stock.\n",
    "A week can be defined as the 7 day period after the data horizon time. "
   ]
  },
  {
   "cell_type": "code",
   "execution_count": 7,
   "metadata": {},
   "outputs": [],
   "source": [
    "# Let's Make some features and produce label\n",
    "\n",
    "# For a stock we parhaps can use the following stuff: \n",
    "# Moving average of price\n",
    "# \n"
   ]
  },
  {
   "cell_type": "code",
   "execution_count": 8,
   "metadata": {},
   "outputs": [],
   "source": [
    "hour_vector = data[STOCK_TICKER].index.hour\n",
    "weekday = data[STOCK_TICKER].index.weekday"
   ]
  },
  {
   "cell_type": "code",
   "execution_count": 9,
   "metadata": {},
   "outputs": [],
   "source": [
    "df[\"hour\"] = hour_vector.astype(\"category\")\n",
    "df[\"weekday\"] = hour_vector.astype(\"category\")"
   ]
  },
  {
   "cell_type": "code",
   "execution_count": 10,
   "metadata": {},
   "outputs": [
    {
     "data": {
      "text/plain": [
       "[4, 5, 6, 7, 8, ..., 14, 15, 16, 17, 18]\n",
       "Length: 15\n",
       "Categories (15, int64): [4, 5, 6, 7, ..., 15, 16, 17, 18]"
      ]
     },
     "execution_count": 10,
     "metadata": {},
     "output_type": "execute_result"
    }
   ],
   "source": [
    "df.hour.unique()"
   ]
  },
  {
   "cell_type": "code",
   "execution_count": 11,
   "metadata": {},
   "outputs": [],
   "source": [
    "# There is 11 hours in our range and we have data ever 15 mins.\n",
    "# In tota that is  11*15 rows per day\n",
    "rows_per_day = 11*15"
   ]
  },
  {
   "cell_type": "code",
   "execution_count": 12,
   "metadata": {},
   "outputs": [
    {
     "data": {
      "text/plain": [
       "21.23030303030303"
      ]
     },
     "execution_count": 12,
     "metadata": {},
     "output_type": "execute_result"
    }
   ],
   "source": [
    "len(df)/rows_per_day"
   ]
  },
  {
   "cell_type": "code",
   "execution_count": 13,
   "metadata": {},
   "outputs": [
    {
     "data": {
      "text/html": [
       "<div>\n",
       "<style scoped>\n",
       "    .dataframe tbody tr th:only-of-type {\n",
       "        vertical-align: middle;\n",
       "    }\n",
       "\n",
       "    .dataframe tbody tr th {\n",
       "        vertical-align: top;\n",
       "    }\n",
       "\n",
       "    .dataframe thead th {\n",
       "        text-align: right;\n",
       "    }\n",
       "</style>\n",
       "<table border=\"1\" class=\"dataframe\">\n",
       "  <thead>\n",
       "    <tr style=\"text-align: right;\">\n",
       "      <th></th>\n",
       "      <th>Open</th>\n",
       "      <th>High</th>\n",
       "      <th>Low</th>\n",
       "      <th>Close</th>\n",
       "      <th>Volume</th>\n",
       "      <th>hour</th>\n",
       "      <th>weekday</th>\n",
       "    </tr>\n",
       "    <tr>\n",
       "      <th>Datetime</th>\n",
       "      <th></th>\n",
       "      <th></th>\n",
       "      <th></th>\n",
       "      <th></th>\n",
       "      <th></th>\n",
       "      <th></th>\n",
       "      <th></th>\n",
       "    </tr>\n",
       "  </thead>\n",
       "  <tbody>\n",
       "    <tr>\n",
       "      <th>2021-11-17 04:00:00-05:00</th>\n",
       "      <td>469.47</td>\n",
       "      <td>469.49</td>\n",
       "      <td>469.30</td>\n",
       "      <td>469.30</td>\n",
       "      <td>0.0</td>\n",
       "      <td>4</td>\n",
       "      <td>4</td>\n",
       "    </tr>\n",
       "    <tr>\n",
       "      <th>2021-11-17 04:15:00-05:00</th>\n",
       "      <td>469.30</td>\n",
       "      <td>469.33</td>\n",
       "      <td>469.22</td>\n",
       "      <td>469.24</td>\n",
       "      <td>0.0</td>\n",
       "      <td>4</td>\n",
       "      <td>4</td>\n",
       "    </tr>\n",
       "    <tr>\n",
       "      <th>2021-11-17 04:30:00-05:00</th>\n",
       "      <td>469.22</td>\n",
       "      <td>469.24</td>\n",
       "      <td>468.96</td>\n",
       "      <td>468.99</td>\n",
       "      <td>0.0</td>\n",
       "      <td>4</td>\n",
       "      <td>4</td>\n",
       "    </tr>\n",
       "    <tr>\n",
       "      <th>2021-11-17 04:45:00-05:00</th>\n",
       "      <td>469.00</td>\n",
       "      <td>469.08</td>\n",
       "      <td>468.97</td>\n",
       "      <td>468.99</td>\n",
       "      <td>0.0</td>\n",
       "      <td>4</td>\n",
       "      <td>4</td>\n",
       "    </tr>\n",
       "    <tr>\n",
       "      <th>2021-11-17 05:00:00-05:00</th>\n",
       "      <td>468.99</td>\n",
       "      <td>469.07</td>\n",
       "      <td>468.96</td>\n",
       "      <td>468.99</td>\n",
       "      <td>0.0</td>\n",
       "      <td>5</td>\n",
       "      <td>5</td>\n",
       "    </tr>\n",
       "  </tbody>\n",
       "</table>\n",
       "</div>"
      ],
      "text/plain": [
       "                             Open    High     Low   Close  Volume hour weekday\n",
       "Datetime                                                                      \n",
       "2021-11-17 04:00:00-05:00  469.47  469.49  469.30  469.30     0.0    4       4\n",
       "2021-11-17 04:15:00-05:00  469.30  469.33  469.22  469.24     0.0    4       4\n",
       "2021-11-17 04:30:00-05:00  469.22  469.24  468.96  468.99     0.0    4       4\n",
       "2021-11-17 04:45:00-05:00  469.00  469.08  468.97  468.99     0.0    4       4\n",
       "2021-11-17 05:00:00-05:00  468.99  469.07  468.96  468.99     0.0    5       5"
      ]
     },
     "execution_count": 13,
     "metadata": {},
     "output_type": "execute_result"
    }
   ],
   "source": [
    "df.head()"
   ]
  },
  {
   "cell_type": "code",
   "execution_count": 14,
   "metadata": {},
   "outputs": [],
   "source": [
    "def reverse_rolling_mean(x, rows):\n",
    "    return x.iloc[::-1].rolling(rows, min_periods=rows).mean().iloc[::-1]\n",
    "# We could have a reverse rolling Standard Deviation"
   ]
  },
  {
   "cell_type": "code",
   "execution_count": 15,
   "metadata": {},
   "outputs": [],
   "source": [
    "df[\"target\"] = reverse_rolling_mean(df.Close, rows_per_day*3) # mean price of the 3 days"
   ]
  },
  {
   "cell_type": "code",
   "execution_count": 16,
   "metadata": {},
   "outputs": [],
   "source": [
    "df[\"previous_Close\"] = df.Close.shift(1) # we use this to normalize our features\n",
    "df[\"normalized_Open\"] = (df.Open / df.previous_Close)-1\n",
    "df[\"normalized_High\"] = (df.Open / df.previous_Close)-1\n",
    "df[\"normalized_Low\"] = (df.Open / df.previous_Close)-1\n",
    "df[\"normalized_Close\"] = (df.Close / df.previous_Close)-1\n",
    "df[\"target\"] = (df.target / df.Open)-1 # Adjusting target to be average next 3 days percentage change compared to today's open."
   ]
  },
  {
   "cell_type": "code",
   "execution_count": 17,
   "metadata": {
    "tags": []
   },
   "outputs": [],
   "source": [
    "# Features\n",
    "# Rolling MA different periods. \n",
    "def rolling_features(df, col, periods):\n",
    "    ma = df[col].rolling(periods, min_periods=periods).mean()\n",
    "    mstd = df[col].rolling(periods, min_periods=periods).std()\n",
    "    return ma, mstd\n",
    "\n",
    "#interesting_lags = [, rows_per_day, rows_per_day*10, rows_per_day*30, rows_per_day*45, rows_per_day*60]\n",
    "interesting_lags = np.linspace(5,95,10, dtype=int)\n",
    "for lag in interesting_lags:\n",
    "    ma, mstd = rolling_features(df, \"normalized_Close\", lag)\n",
    "    df[f\"ma_{lag}\"] = ma\n",
    "    df[f\"mstd_{lag}\"] = mstd"
   ]
  },
  {
   "cell_type": "code",
   "execution_count": 18,
   "metadata": {},
   "outputs": [],
   "source": [
    "df_complete = df.dropna()"
   ]
  },
  {
   "cell_type": "code",
   "execution_count": 19,
   "metadata": {},
   "outputs": [
    {
     "data": {
      "text/html": [
       "<div>\n",
       "<style scoped>\n",
       "    .dataframe tbody tr th:only-of-type {\n",
       "        vertical-align: middle;\n",
       "    }\n",
       "\n",
       "    .dataframe tbody tr th {\n",
       "        vertical-align: top;\n",
       "    }\n",
       "\n",
       "    .dataframe thead th {\n",
       "        text-align: right;\n",
       "    }\n",
       "</style>\n",
       "<table border=\"1\" class=\"dataframe\">\n",
       "  <thead>\n",
       "    <tr style=\"text-align: right;\">\n",
       "      <th></th>\n",
       "      <th>Open</th>\n",
       "      <th>High</th>\n",
       "      <th>Low</th>\n",
       "      <th>Close</th>\n",
       "      <th>Volume</th>\n",
       "      <th>hour</th>\n",
       "      <th>weekday</th>\n",
       "      <th>target</th>\n",
       "      <th>previous_Close</th>\n",
       "      <th>normalized_Open</th>\n",
       "      <th>...</th>\n",
       "      <th>ma_55</th>\n",
       "      <th>mstd_55</th>\n",
       "      <th>ma_65</th>\n",
       "      <th>mstd_65</th>\n",
       "      <th>ma_75</th>\n",
       "      <th>mstd_75</th>\n",
       "      <th>ma_85</th>\n",
       "      <th>mstd_85</th>\n",
       "      <th>ma_95</th>\n",
       "      <th>mstd_95</th>\n",
       "    </tr>\n",
       "    <tr>\n",
       "      <th>Datetime</th>\n",
       "      <th></th>\n",
       "      <th></th>\n",
       "      <th></th>\n",
       "      <th></th>\n",
       "      <th></th>\n",
       "      <th></th>\n",
       "      <th></th>\n",
       "      <th></th>\n",
       "      <th></th>\n",
       "      <th></th>\n",
       "      <th></th>\n",
       "      <th></th>\n",
       "      <th></th>\n",
       "      <th></th>\n",
       "      <th></th>\n",
       "      <th></th>\n",
       "      <th></th>\n",
       "      <th></th>\n",
       "      <th></th>\n",
       "      <th></th>\n",
       "      <th></th>\n",
       "    </tr>\n",
       "  </thead>\n",
       "  <tbody>\n",
       "    <tr>\n",
       "      <th>2021-11-18 13:15:00-05:00</th>\n",
       "      <td>469.475006</td>\n",
       "      <td>469.475006</td>\n",
       "      <td>468.970001</td>\n",
       "      <td>469.179993</td>\n",
       "      <td>1025661.0</td>\n",
       "      <td>13</td>\n",
       "      <td>13</td>\n",
       "      <td>-0.010162</td>\n",
       "      <td>469.472687</td>\n",
       "      <td>0.000005</td>\n",
       "      <td>...</td>\n",
       "      <td>0.000040</td>\n",
       "      <td>0.000816</td>\n",
       "      <td>0.000003</td>\n",
       "      <td>0.000813</td>\n",
       "      <td>0.000010</td>\n",
       "      <td>0.000838</td>\n",
       "      <td>6.087330e-06</td>\n",
       "      <td>0.000803</td>\n",
       "      <td>-2.404501e-06</td>\n",
       "      <td>0.000762</td>\n",
       "    </tr>\n",
       "    <tr>\n",
       "      <th>2021-11-18 13:30:00-05:00</th>\n",
       "      <td>469.170013</td>\n",
       "      <td>469.350006</td>\n",
       "      <td>469.049988</td>\n",
       "      <td>469.290009</td>\n",
       "      <td>616266.0</td>\n",
       "      <td>13</td>\n",
       "      <td>13</td>\n",
       "      <td>-0.009586</td>\n",
       "      <td>469.179993</td>\n",
       "      <td>-0.000021</td>\n",
       "      <td>...</td>\n",
       "      <td>0.000041</td>\n",
       "      <td>0.000816</td>\n",
       "      <td>0.000029</td>\n",
       "      <td>0.000793</td>\n",
       "      <td>0.000024</td>\n",
       "      <td>0.000832</td>\n",
       "      <td>7.089868e-06</td>\n",
       "      <td>0.000803</td>\n",
       "      <td>1.409556e-06</td>\n",
       "      <td>0.000763</td>\n",
       "    </tr>\n",
       "    <tr>\n",
       "      <th>2021-11-18 13:45:00-05:00</th>\n",
       "      <td>469.299988</td>\n",
       "      <td>469.470001</td>\n",
       "      <td>469.190002</td>\n",
       "      <td>469.379913</td>\n",
       "      <td>1552479.0</td>\n",
       "      <td>13</td>\n",
       "      <td>13</td>\n",
       "      <td>-0.009930</td>\n",
       "      <td>469.290009</td>\n",
       "      <td>0.000021</td>\n",
       "      <td>...</td>\n",
       "      <td>0.000035</td>\n",
       "      <td>0.000814</td>\n",
       "      <td>0.000055</td>\n",
       "      <td>0.000770</td>\n",
       "      <td>0.000052</td>\n",
       "      <td>0.000802</td>\n",
       "      <td>6.584511e-06</td>\n",
       "      <td>0.000803</td>\n",
       "      <td>9.034320e-06</td>\n",
       "      <td>0.000761</td>\n",
       "    </tr>\n",
       "    <tr>\n",
       "      <th>2021-11-18 14:00:00-05:00</th>\n",
       "      <td>469.355011</td>\n",
       "      <td>469.489990</td>\n",
       "      <td>468.970001</td>\n",
       "      <td>469.316101</td>\n",
       "      <td>1043316.0</td>\n",
       "      <td>14</td>\n",
       "      <td>14</td>\n",
       "      <td>-0.010116</td>\n",
       "      <td>469.379913</td>\n",
       "      <td>-0.000053</td>\n",
       "      <td>...</td>\n",
       "      <td>0.000042</td>\n",
       "      <td>0.000811</td>\n",
       "      <td>0.000039</td>\n",
       "      <td>0.000763</td>\n",
       "      <td>0.000030</td>\n",
       "      <td>0.000785</td>\n",
       "      <td>7.218869e-07</td>\n",
       "      <td>0.000803</td>\n",
       "      <td>7.603267e-06</td>\n",
       "      <td>0.000761</td>\n",
       "    </tr>\n",
       "    <tr>\n",
       "      <th>2021-11-18 14:15:00-05:00</th>\n",
       "      <td>469.309998</td>\n",
       "      <td>469.350006</td>\n",
       "      <td>468.799988</td>\n",
       "      <td>468.980011</td>\n",
       "      <td>1087987.0</td>\n",
       "      <td>14</td>\n",
       "      <td>14</td>\n",
       "      <td>-0.010089</td>\n",
       "      <td>469.316101</td>\n",
       "      <td>-0.000013</td>\n",
       "      <td>...</td>\n",
       "      <td>0.000023</td>\n",
       "      <td>0.000816</td>\n",
       "      <td>0.000030</td>\n",
       "      <td>0.000768</td>\n",
       "      <td>0.000028</td>\n",
       "      <td>0.000787</td>\n",
       "      <td>-5.196278e-06</td>\n",
       "      <td>0.000806</td>\n",
       "      <td>6.508409e-08</td>\n",
       "      <td>0.000765</td>\n",
       "    </tr>\n",
       "  </tbody>\n",
       "</table>\n",
       "<p>5 rows × 33 columns</p>\n",
       "</div>"
      ],
      "text/plain": [
       "                                 Open        High         Low       Close  \\\n",
       "Datetime                                                                    \n",
       "2021-11-18 13:15:00-05:00  469.475006  469.475006  468.970001  469.179993   \n",
       "2021-11-18 13:30:00-05:00  469.170013  469.350006  469.049988  469.290009   \n",
       "2021-11-18 13:45:00-05:00  469.299988  469.470001  469.190002  469.379913   \n",
       "2021-11-18 14:00:00-05:00  469.355011  469.489990  468.970001  469.316101   \n",
       "2021-11-18 14:15:00-05:00  469.309998  469.350006  468.799988  468.980011   \n",
       "\n",
       "                              Volume hour weekday    target  previous_Close  \\\n",
       "Datetime                                                                      \n",
       "2021-11-18 13:15:00-05:00  1025661.0   13      13 -0.010162      469.472687   \n",
       "2021-11-18 13:30:00-05:00   616266.0   13      13 -0.009586      469.179993   \n",
       "2021-11-18 13:45:00-05:00  1552479.0   13      13 -0.009930      469.290009   \n",
       "2021-11-18 14:00:00-05:00  1043316.0   14      14 -0.010116      469.379913   \n",
       "2021-11-18 14:15:00-05:00  1087987.0   14      14 -0.010089      469.316101   \n",
       "\n",
       "                           normalized_Open  ...     ma_55   mstd_55     ma_65  \\\n",
       "Datetime                                    ...                                 \n",
       "2021-11-18 13:15:00-05:00         0.000005  ...  0.000040  0.000816  0.000003   \n",
       "2021-11-18 13:30:00-05:00        -0.000021  ...  0.000041  0.000816  0.000029   \n",
       "2021-11-18 13:45:00-05:00         0.000021  ...  0.000035  0.000814  0.000055   \n",
       "2021-11-18 14:00:00-05:00        -0.000053  ...  0.000042  0.000811  0.000039   \n",
       "2021-11-18 14:15:00-05:00        -0.000013  ...  0.000023  0.000816  0.000030   \n",
       "\n",
       "                            mstd_65     ma_75   mstd_75         ma_85  \\\n",
       "Datetime                                                                \n",
       "2021-11-18 13:15:00-05:00  0.000813  0.000010  0.000838  6.087330e-06   \n",
       "2021-11-18 13:30:00-05:00  0.000793  0.000024  0.000832  7.089868e-06   \n",
       "2021-11-18 13:45:00-05:00  0.000770  0.000052  0.000802  6.584511e-06   \n",
       "2021-11-18 14:00:00-05:00  0.000763  0.000030  0.000785  7.218869e-07   \n",
       "2021-11-18 14:15:00-05:00  0.000768  0.000028  0.000787 -5.196278e-06   \n",
       "\n",
       "                            mstd_85         ma_95   mstd_95  \n",
       "Datetime                                                     \n",
       "2021-11-18 13:15:00-05:00  0.000803 -2.404501e-06  0.000762  \n",
       "2021-11-18 13:30:00-05:00  0.000803  1.409556e-06  0.000763  \n",
       "2021-11-18 13:45:00-05:00  0.000803  9.034320e-06  0.000761  \n",
       "2021-11-18 14:00:00-05:00  0.000803  7.603267e-06  0.000761  \n",
       "2021-11-18 14:15:00-05:00  0.000806  6.508409e-08  0.000765  \n",
       "\n",
       "[5 rows x 33 columns]"
      ]
     },
     "execution_count": 19,
     "metadata": {},
     "output_type": "execute_result"
    }
   ],
   "source": [
    "df_complete.head()"
   ]
  },
  {
   "cell_type": "code",
   "execution_count": 20,
   "metadata": {},
   "outputs": [],
   "source": [
    "# Our label is the mean price of the next 3 days\n",
    "ml_data = df_complete.drop(columns=[\"Open\", \"High\", \"Low\", \"Close\", \"previous_Close\"])"
   ]
  },
  {
   "cell_type": "code",
   "execution_count": 21,
   "metadata": {},
   "outputs": [],
   "source": [
    "training_data = ml_data[ml_data.index < train_data_cutoff]\n",
    "test_data = ml_data[(ml_data.index > test_data_beginning) & (ml_data.index < test_data_end)]"
   ]
  },
  {
   "cell_type": "code",
   "execution_count": 22,
   "metadata": {},
   "outputs": [],
   "source": [
    "from catboost import CatBoostRegressor, Pool"
   ]
  },
  {
   "cell_type": "code",
   "execution_count": 23,
   "metadata": {},
   "outputs": [],
   "source": [
    "train_pool = Pool(training_data.drop(columns=\"target\"),\n",
    "                 label=training_data.target,\n",
    "                 cat_features=[\"hour\", \"weekday\"])\n",
    "test_pool = Pool(test_data.drop(columns=\"target\"),\n",
    "                 label=test_data.target,\n",
    "                 cat_features=[\"hour\", \"weekday\"])"
   ]
  },
  {
   "cell_type": "code",
   "execution_count": 24,
   "metadata": {},
   "outputs": [],
   "source": [
    "model = CatBoostRegressor(iterations=40,\n",
    "                          learning_rate=0.01,\n",
    "                          eval_metric=\"MAE\",\n",
    "                          loss_function='RMSE',\n",
    ")"
   ]
  },
  {
   "cell_type": "code",
   "execution_count": 25,
   "metadata": {},
   "outputs": [
    {
     "name": "stdout",
     "output_type": "stream",
     "text": [
      "0:\tlearn: 0.0128157\ttest: 0.0266367\tbest: 0.0266367 (0)\ttotal: 60ms\tremaining: 2.34s\n",
      "1:\tlearn: 0.0127460\ttest: 0.0266514\tbest: 0.0266367 (0)\ttotal: 62.1ms\tremaining: 1.18s\n",
      "2:\tlearn: 0.0126679\ttest: 0.0266558\tbest: 0.0266367 (0)\ttotal: 63.9ms\tremaining: 788ms\n",
      "3:\tlearn: 0.0125928\ttest: 0.0266337\tbest: 0.0266337 (3)\ttotal: 65.7ms\tremaining: 591ms\n",
      "4:\tlearn: 0.0125109\ttest: 0.0266428\tbest: 0.0266337 (3)\ttotal: 67.2ms\tremaining: 471ms\n",
      "5:\tlearn: 0.0124333\ttest: 0.0266169\tbest: 0.0266169 (5)\ttotal: 68.9ms\tremaining: 391ms\n",
      "6:\tlearn: 0.0123524\ttest: 0.0265786\tbest: 0.0265786 (6)\ttotal: 70.4ms\tremaining: 332ms\n",
      "7:\tlearn: 0.0122782\ttest: 0.0265271\tbest: 0.0265271 (7)\ttotal: 72ms\tremaining: 288ms\n",
      "8:\tlearn: 0.0122076\ttest: 0.0265083\tbest: 0.0265083 (8)\ttotal: 73.6ms\tremaining: 253ms\n",
      "9:\tlearn: 0.0121391\ttest: 0.0264866\tbest: 0.0264866 (9)\ttotal: 75.1ms\tremaining: 225ms\n",
      "10:\tlearn: 0.0120658\ttest: 0.0264579\tbest: 0.0264579 (10)\ttotal: 76.7ms\tremaining: 202ms\n",
      "11:\tlearn: 0.0119946\ttest: 0.0264007\tbest: 0.0264007 (11)\ttotal: 78.1ms\tremaining: 182ms\n",
      "12:\tlearn: 0.0119254\ttest: 0.0264119\tbest: 0.0264007 (11)\ttotal: 79.7ms\tremaining: 166ms\n",
      "13:\tlearn: 0.0118509\ttest: 0.0264153\tbest: 0.0264007 (11)\ttotal: 81.2ms\tremaining: 151ms\n",
      "14:\tlearn: 0.0117801\ttest: 0.0264222\tbest: 0.0264007 (11)\ttotal: 82.6ms\tremaining: 138ms\n",
      "15:\tlearn: 0.0117155\ttest: 0.0263786\tbest: 0.0263786 (15)\ttotal: 84.1ms\tremaining: 126ms\n",
      "16:\tlearn: 0.0116432\ttest: 0.0263848\tbest: 0.0263786 (15)\ttotal: 85.5ms\tremaining: 116ms\n",
      "17:\tlearn: 0.0115718\ttest: 0.0263746\tbest: 0.0263746 (17)\ttotal: 86.9ms\tremaining: 106ms\n",
      "18:\tlearn: 0.0115009\ttest: 0.0263667\tbest: 0.0263667 (18)\ttotal: 88.4ms\tremaining: 97.7ms\n",
      "19:\tlearn: 0.0114422\ttest: 0.0263719\tbest: 0.0263667 (18)\ttotal: 90ms\tremaining: 90ms\n",
      "20:\tlearn: 0.0113724\ttest: 0.0263626\tbest: 0.0263626 (20)\ttotal: 91.5ms\tremaining: 82.8ms\n",
      "21:\tlearn: 0.0113068\ttest: 0.0263330\tbest: 0.0263330 (21)\ttotal: 92.9ms\tremaining: 76ms\n",
      "22:\tlearn: 0.0112447\ttest: 0.0263047\tbest: 0.0263047 (22)\ttotal: 94.3ms\tremaining: 69.7ms\n",
      "23:\tlearn: 0.0111837\ttest: 0.0263318\tbest: 0.0263047 (22)\ttotal: 95.7ms\tremaining: 63.8ms\n",
      "24:\tlearn: 0.0111131\ttest: 0.0263376\tbest: 0.0263047 (22)\ttotal: 97.4ms\tremaining: 58.4ms\n",
      "25:\tlearn: 0.0110488\ttest: 0.0263298\tbest: 0.0263047 (22)\ttotal: 99.1ms\tremaining: 53.4ms\n",
      "26:\tlearn: 0.0109861\ttest: 0.0263366\tbest: 0.0263047 (22)\ttotal: 101ms\tremaining: 48.4ms\n",
      "27:\tlearn: 0.0109220\ttest: 0.0263269\tbest: 0.0263047 (22)\ttotal: 102ms\tremaining: 43.8ms\n",
      "28:\tlearn: 0.0108617\ttest: 0.0263110\tbest: 0.0263047 (22)\ttotal: 104ms\tremaining: 39.3ms\n",
      "29:\tlearn: 0.0108043\ttest: 0.0262717\tbest: 0.0262717 (29)\ttotal: 105ms\tremaining: 35ms\n",
      "30:\tlearn: 0.0107511\ttest: 0.0262530\tbest: 0.0262530 (30)\ttotal: 106ms\tremaining: 30.9ms\n",
      "31:\tlearn: 0.0106943\ttest: 0.0262427\tbest: 0.0262427 (31)\ttotal: 108ms\tremaining: 27ms\n",
      "32:\tlearn: 0.0106382\ttest: 0.0262452\tbest: 0.0262427 (31)\ttotal: 109ms\tremaining: 23.2ms\n",
      "33:\tlearn: 0.0105807\ttest: 0.0262354\tbest: 0.0262354 (33)\ttotal: 111ms\tremaining: 19.6ms\n",
      "34:\tlearn: 0.0105274\ttest: 0.0262027\tbest: 0.0262027 (34)\ttotal: 112ms\tremaining: 16ms\n",
      "35:\tlearn: 0.0104788\ttest: 0.0262032\tbest: 0.0262027 (34)\ttotal: 114ms\tremaining: 12.6ms\n",
      "36:\tlearn: 0.0104250\ttest: 0.0262046\tbest: 0.0262027 (34)\ttotal: 115ms\tremaining: 9.32ms\n",
      "37:\tlearn: 0.0103700\ttest: 0.0262206\tbest: 0.0262027 (34)\ttotal: 116ms\tremaining: 6.12ms\n",
      "38:\tlearn: 0.0103123\ttest: 0.0262157\tbest: 0.0262027 (34)\ttotal: 118ms\tremaining: 3.02ms\n",
      "39:\tlearn: 0.0102648\ttest: 0.0262160\tbest: 0.0262027 (34)\ttotal: 119ms\tremaining: 0us\n",
      "\n",
      "bestTest = 0.02620268639\n",
      "bestIteration = 34\n",
      "\n",
      "Shrink model to first 35 iterations.\n"
     ]
    },
    {
     "data": {
      "text/plain": [
       "<catboost.core.CatBoostRegressor at 0x110f30af0>"
      ]
     },
     "execution_count": 25,
     "metadata": {},
     "output_type": "execute_result"
    }
   ],
   "source": [
    "model.fit(train_pool,\n",
    "         eval_set=test_pool,)"
   ]
  },
  {
   "cell_type": "code",
   "execution_count": 26,
   "metadata": {},
   "outputs": [],
   "source": [
    "# Issues. This is just one model, we have no guarantee our architecture will work in the future.\n",
    "predictions = model.predict(test_data.drop(columns=\"target\"))"
   ]
  },
  {
   "cell_type": "code",
   "execution_count": 27,
   "metadata": {},
   "outputs": [],
   "source": [
    "eval_df = test_data[[\"target\"]].copy()\n",
    "eval_df[\"predictions\"] = predictions"
   ]
  },
  {
   "cell_type": "code",
   "execution_count": 28,
   "metadata": {},
   "outputs": [
    {
     "data": {
      "text/html": [
       "<div>\n",
       "<style scoped>\n",
       "    .dataframe tbody tr th:only-of-type {\n",
       "        vertical-align: middle;\n",
       "    }\n",
       "\n",
       "    .dataframe tbody tr th {\n",
       "        vertical-align: top;\n",
       "    }\n",
       "\n",
       "    .dataframe thead th {\n",
       "        text-align: right;\n",
       "    }\n",
       "</style>\n",
       "<table border=\"1\" class=\"dataframe\">\n",
       "  <thead>\n",
       "    <tr style=\"text-align: right;\">\n",
       "      <th></th>\n",
       "      <th>target</th>\n",
       "      <th>predictions</th>\n",
       "    </tr>\n",
       "    <tr>\n",
       "      <th>Datetime</th>\n",
       "      <th></th>\n",
       "      <th></th>\n",
       "    </tr>\n",
       "  </thead>\n",
       "  <tbody>\n",
       "    <tr>\n",
       "      <th>2022-01-18 04:00:00-05:00</th>\n",
       "      <td>-0.037921</td>\n",
       "      <td>0.003274</td>\n",
       "    </tr>\n",
       "    <tr>\n",
       "      <th>2022-01-18 04:15:00-05:00</th>\n",
       "      <td>-0.036481</td>\n",
       "      <td>0.003490</td>\n",
       "    </tr>\n",
       "    <tr>\n",
       "      <th>2022-01-18 04:30:00-05:00</th>\n",
       "      <td>-0.034905</td>\n",
       "      <td>0.003296</td>\n",
       "    </tr>\n",
       "    <tr>\n",
       "      <th>2022-01-18 04:45:00-05:00</th>\n",
       "      <td>-0.035035</td>\n",
       "      <td>0.003341</td>\n",
       "    </tr>\n",
       "    <tr>\n",
       "      <th>2022-01-18 05:00:00-05:00</th>\n",
       "      <td>-0.036178</td>\n",
       "      <td>0.003409</td>\n",
       "    </tr>\n",
       "    <tr>\n",
       "      <th>...</th>\n",
       "      <td>...</td>\n",
       "      <td>...</td>\n",
       "    </tr>\n",
       "    <tr>\n",
       "      <th>2022-01-21 17:45:00-05:00</th>\n",
       "      <td>0.009724</td>\n",
       "      <td>0.004409</td>\n",
       "    </tr>\n",
       "    <tr>\n",
       "      <th>2022-01-21 18:00:00-05:00</th>\n",
       "      <td>0.009954</td>\n",
       "      <td>0.004320</td>\n",
       "    </tr>\n",
       "    <tr>\n",
       "      <th>2022-01-21 18:15:00-05:00</th>\n",
       "      <td>0.010042</td>\n",
       "      <td>0.004412</td>\n",
       "    </tr>\n",
       "    <tr>\n",
       "      <th>2022-01-21 18:30:00-05:00</th>\n",
       "      <td>0.010293</td>\n",
       "      <td>0.004431</td>\n",
       "    </tr>\n",
       "    <tr>\n",
       "      <th>2022-01-21 18:45:00-05:00</th>\n",
       "      <td>0.010477</td>\n",
       "      <td>0.004440</td>\n",
       "    </tr>\n",
       "  </tbody>\n",
       "</table>\n",
       "<p>236 rows × 2 columns</p>\n",
       "</div>"
      ],
      "text/plain": [
       "                             target  predictions\n",
       "Datetime                                        \n",
       "2022-01-18 04:00:00-05:00 -0.037921     0.003274\n",
       "2022-01-18 04:15:00-05:00 -0.036481     0.003490\n",
       "2022-01-18 04:30:00-05:00 -0.034905     0.003296\n",
       "2022-01-18 04:45:00-05:00 -0.035035     0.003341\n",
       "2022-01-18 05:00:00-05:00 -0.036178     0.003409\n",
       "...                             ...          ...\n",
       "2022-01-21 17:45:00-05:00  0.009724     0.004409\n",
       "2022-01-21 18:00:00-05:00  0.009954     0.004320\n",
       "2022-01-21 18:15:00-05:00  0.010042     0.004412\n",
       "2022-01-21 18:30:00-05:00  0.010293     0.004431\n",
       "2022-01-21 18:45:00-05:00  0.010477     0.004440\n",
       "\n",
       "[236 rows x 2 columns]"
      ]
     },
     "execution_count": 28,
     "metadata": {},
     "output_type": "execute_result"
    }
   ],
   "source": [
    "eval_df"
   ]
  },
  {
   "cell_type": "code",
   "execution_count": 30,
   "metadata": {},
   "outputs": [
    {
     "data": {
      "text/plain": [
       "target         0.010477\n",
       "predictions    0.004475\n",
       "dtype: float64"
      ]
     },
     "execution_count": 30,
     "metadata": {},
     "output_type": "execute_result"
    }
   ],
   "source": [
    "eval_df.max()"
   ]
  },
  {
   "cell_type": "code",
   "execution_count": null,
   "metadata": {},
   "outputs": [],
   "source": [
    "# Need to package this into a signal for an algo.\n",
    "# it could be something when prediction is high buy."
   ]
  }
 ],
 "metadata": {
  "interpreter": {
   "hash": "cdfdffc090f36e5bb95988d50c8bc82614ec33f2ee1dc2fc9350eed669af1b8e"
  },
  "kernelspec": {
   "display_name": "Python 3 (ipykernel)",
   "language": "python",
   "name": "python3"
  },
  "language_info": {
   "codemirror_mode": {
    "name": "ipython",
    "version": 3
   },
   "file_extension": ".py",
   "mimetype": "text/x-python",
   "name": "python",
   "nbconvert_exporter": "python",
   "pygments_lexer": "ipython3",
   "version": "3.9.9"
  }
 },
 "nbformat": 4,
 "nbformat_minor": 4
}
